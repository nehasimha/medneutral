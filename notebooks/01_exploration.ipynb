{
 "cells": [
  {
   "cell_type": "code",
   "execution_count": 1,
   "id": "16b2d59c",
   "metadata": {},
   "outputs": [],
   "source": [
    "# imports\n",
    "import pandas as pd\n",
    "import json"
   ]
  },
  {
   "cell_type": "code",
   "execution_count": 3,
   "id": "48033c4b",
   "metadata": {},
   "outputs": [],
   "source": [
    "# df = pd.read_csv('/Users/nehasimha/Documents/Work/Coding/MedNeutral/medneutral/data/discharge.csv.gz')\n",
    "\n",
    "# df.head()"
   ]
  },
  {
   "cell_type": "code",
   "execution_count": 4,
   "id": "7b47b446",
   "metadata": {},
   "outputs": [],
   "source": [
    "# notes_df = df[['subject_id', 'hadm_id', 'text']]  \n",
    "# notes_df = notes_df.dropna().reset_index(drop=True)"
   ]
  },
  {
   "cell_type": "code",
   "execution_count": 5,
   "id": "1198de29",
   "metadata": {},
   "outputs": [],
   "source": [
    "# notes_df.sample(10000).to_csv('/Users/nehasimha/Documents/Work/Coding/MedNeutral/medneutral/data/mimic_sample.csv', index=False)\n",
    "\n",
    "notes_df = pd.read_csv('/Users/nehasimha/Documents/Work/Coding/MedNeutral/medneutral/data/mimic_sample.csv')"
   ]
  },
  {
   "cell_type": "code",
   "execution_count": 6,
   "id": "0afaae5f",
   "metadata": {},
   "outputs": [],
   "source": [
    "with open('/Users/nehasimha/Documents/Work/Coding/MedNeutral/medneutral/data/keywords.json', 'r') as f:\n",
    "    keyword_dict = json.load(f)\n",
    "\n",
    "# Flatten all keywords to a set for detection\n",
    "all_keywords = set()\n",
    "for category, words in keyword_dict.items():\n",
    "    all_keywords.update(w.lower() for w in words)"
   ]
  },
  {
   "cell_type": "code",
   "execution_count": 8,
   "id": "0c899db8",
   "metadata": {},
   "outputs": [
    {
     "data": {
      "text/plain": [
       "{'adamant',\n",
       " 'adamantly',\n",
       " 'adament',\n",
       " 'adamently',\n",
       " 'adherance',\n",
       " 'adhere',\n",
       " 'adhered',\n",
       " 'adherence',\n",
       " 'adherent',\n",
       " 'adheres',\n",
       " 'adhering',\n",
       " 'aggression',\n",
       " 'aggressive',\n",
       " 'aggressively',\n",
       " 'agitated',\n",
       " 'agitation',\n",
       " 'anger',\n",
       " 'angered',\n",
       " 'angers',\n",
       " 'angrier',\n",
       " 'angrily',\n",
       " 'angry',\n",
       " 'argumentative',\n",
       " 'argumentatively',\n",
       " 'belligerence',\n",
       " 'belligerent',\n",
       " 'belligerently',\n",
       " 'charming',\n",
       " 'claim',\n",
       " 'claimed',\n",
       " 'claiming',\n",
       " 'claims',\n",
       " 'combative',\n",
       " 'combatively',\n",
       " 'compliance',\n",
       " 'compliant',\n",
       " 'complied',\n",
       " 'complies',\n",
       " 'comply',\n",
       " 'complying',\n",
       " 'confrontational',\n",
       " 'cooperative',\n",
       " 'declined',\n",
       " 'declines',\n",
       " 'declining',\n",
       " 'defensive',\n",
       " 'delightful',\n",
       " 'disheveled',\n",
       " 'drug seeking',\n",
       " 'drug-seeking',\n",
       " 'exaggerate',\n",
       " 'exaggerates',\n",
       " 'exaggerating',\n",
       " 'historian',\n",
       " 'insist',\n",
       " 'insisted',\n",
       " 'insistence',\n",
       " 'insisting',\n",
       " 'insists',\n",
       " 'lovely',\n",
       " 'malinger',\n",
       " 'malingered',\n",
       " 'malingerer',\n",
       " 'malingering',\n",
       " 'malingers',\n",
       " 'narcotic seeking',\n",
       " 'narcotic-seeking',\n",
       " 'nonadherance',\n",
       " 'nonadherence',\n",
       " 'nonadherent',\n",
       " 'noncompliance',\n",
       " 'noncompliant',\n",
       " 'pleasant',\n",
       " 'pleasantly',\n",
       " 'poorly groomed',\n",
       " 'poorly-groomed',\n",
       " 'refusal',\n",
       " 'refuse',\n",
       " 'refused',\n",
       " 'refuses',\n",
       " 'refusing',\n",
       " 'secondary gain',\n",
       " 'uncooperative',\n",
       " 'unkempt',\n",
       " 'unmotivated',\n",
       " 'unwilling',\n",
       " 'unwillingly',\n",
       " 'well groomed',\n",
       " 'well-groomed'}"
      ]
     },
     "execution_count": 8,
     "metadata": {},
     "output_type": "execute_result"
    }
   ],
   "source": [
    "all_keywords"
   ]
  },
  {
   "cell_type": "code",
   "execution_count": null,
   "id": "0702de7e",
   "metadata": {},
   "outputs": [],
   "source": [
    "def contains_stigma(text):\n",
    "    text = str(text).lower()\n",
    "    return int(any(kw in text for kw in all_keywords))\n",
    "\n",
    "notes_df['stigma_label'] = notes_df['text'].apply(contains_stigma)"
   ]
  },
  {
   "cell_type": "code",
   "execution_count": null,
   "id": "1043d4e2",
   "metadata": {},
   "outputs": [],
   "source": [
    "def find_stigma_categories(text):\n",
    "    text = str(text).lower()\n",
    "    found = []\n",
    "    for category, words in keyword_dict.items():\n",
    "        if any(w in text for w in words):\n",
    "            found.append(category)\n",
    "    return found if found else None\n",
    "\n",
    "notes_df['stigma_categories'] = notes_df['text'].apply(find_stigma_categories)"
   ]
  },
  {
   "cell_type": "code",
   "execution_count": null,
   "id": "60018be1",
   "metadata": {},
   "outputs": [],
   "source": []
  }
 ],
 "metadata": {
  "kernelspec": {
   "display_name": "medneutral_env",
   "language": "python",
   "name": "python3"
  },
  "language_info": {
   "codemirror_mode": {
    "name": "ipython",
    "version": 3
   },
   "file_extension": ".py",
   "mimetype": "text/x-python",
   "name": "python",
   "nbconvert_exporter": "python",
   "pygments_lexer": "ipython3",
   "version": "undefined.undefined.undefined"
  }
 },
 "nbformat": 4,
 "nbformat_minor": 5
}
